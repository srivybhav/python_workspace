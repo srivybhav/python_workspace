{
 "cells": [
  {
   "cell_type": "code",
   "execution_count": 9,
   "metadata": {},
   "outputs": [
    {
     "name": "stdout",
     "output_type": "stream",
     "text": [
      "1\n",
      "Enter the number of hours 1\n",
      "1 hour equals to 60 minutes\n"
     ]
    }
   ],
   "source": [
    "# Write a program to hours to minutes , user should able to give hours as input\n",
    "\n",
    "# your Answer\n",
    "hour=int(input())\n",
    "minutes=60\n",
    "print(\"Enter the number of hours\",hour)\n",
    "print(hour,\"hour equals to\",minutes,\"minutes\")\n",
    "\n"
   ]
  },
  {
   "cell_type": "code",
   "execution_count": 13,
   "metadata": {},
   "outputs": [
    {
     "name": "stdout",
     "output_type": "stream",
     "text": [
      "200\n",
      "Enter the centimeter: 200\n",
      "The meter for equivalent centimeter is 2.0\n"
     ]
    }
   ],
   "source": [
    "# Write a program to convert centimeter to meter , user shoulb be able to give centimeter as input\n",
    "\n",
    "# your Answer\n",
    "centimeter=int(input())\n",
    "meter=centimeter/100\n",
    "print(\"Enter the centimeter:\",centimeter)\n",
    "print(\"The meter for equivalent centimeter is\",meter)\n",
    "\n"
   ]
  },
  {
   "cell_type": "code",
   "execution_count": 2,
   "metadata": {},
   "outputs": [
    {
     "name": "stdout",
     "output_type": "stream",
     "text": [
      "Ente the miles10\n",
      "The equivalent kilometer for miles is   16.0\n"
     ]
    }
   ],
   "source": [
    "# Write a program to convert miles to Kilometer , user shoulb be able to give miles as input\n",
    "\n",
    "# your Answer\n",
    "\n",
    "\n",
    "\n",
    "\n",
    "\n"
   ]
  },
  {
   "cell_type": "code",
   "execution_count": 4,
   "metadata": {},
   "outputs": [],
   "source": [
    "# Write a program to convert pounds to Kilogram , user shoulb be able to give pounds as input\n",
    "\n",
    "# your Answer\n",
    "\n",
    "\n",
    "\n",
    "\n",
    "\n"
   ]
  },
  {
   "cell_type": "code",
   "execution_count": 5,
   "metadata": {},
   "outputs": [],
   "source": [
    "# Write a program to calculate simple interest # all input shoulb be given by the user\n",
    "\n",
    "# your Answer\n",
    "\n",
    "\n",
    "\n",
    "\n",
    "\n"
   ]
  },
  {
   "cell_type": "code",
   "execution_count": 6,
   "metadata": {},
   "outputs": [],
   "source": [
    "# Write a program to calculate area of circle\n",
    "\n",
    "# your Answer\n",
    "\n",
    "\n",
    "\n",
    "\n",
    "\n"
   ]
  },
  {
   "cell_type": "code",
   "execution_count": 7,
   "metadata": {},
   "outputs": [],
   "source": [
    "# Write a program to calculate circumference of circle\n",
    "\n",
    "# your Answer\n",
    "\n",
    "\n",
    "\n",
    "\n",
    "\n",
    "\n"
   ]
  },
  {
   "cell_type": "code",
   "execution_count": 8,
   "metadata": {},
   "outputs": [],
   "source": [
    "# Write a program to calculate perimeter of square\n",
    "\n",
    "# your Answer\n",
    "\n",
    "\n",
    "\n",
    "\n",
    "\n"
   ]
  },
  {
   "cell_type": "code",
   "execution_count": 10,
   "metadata": {},
   "outputs": [],
   "source": [
    "# Write a program to calculate area of square\n",
    "\n",
    "# your Answer\n",
    "\n",
    "\n",
    "\n",
    "\n",
    "\n"
   ]
  },
  {
   "cell_type": "code",
   "execution_count": null,
   "metadata": {},
   "outputs": [],
   "source": [
    "# Write a program to area of traingle\n",
    "\n",
    "# your Answer"
   ]
  }
 ],
 "metadata": {
  "kernelspec": {
   "display_name": "Python 3 (ipykernel)",
   "language": "python",
   "name": "python3"
  },
  "language_info": {
   "codemirror_mode": {
    "name": "ipython",
    "version": 3
   },
   "file_extension": ".py",
   "mimetype": "text/x-python",
   "name": "python",
   "nbconvert_exporter": "python",
   "pygments_lexer": "ipython3",
   "version": "3.11.4"
  }
 },
 "nbformat": 4,
 "nbformat_minor": 2
}
